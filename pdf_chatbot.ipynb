{
 "cells": [
  {
   "cell_type": "code",
   "execution_count": 1,
   "id": "5acd9b6a-fd77-40e9-bca2-76c83c323afb",
   "metadata": {},
   "outputs": [
    {
     "name": "stdout",
     "output_type": "stream",
     "text": [
      "Collecting PyPDF2\n",
      "  Downloading pypdf2-3.0.1-py3-none-any.whl.metadata (6.8 kB)\n",
      "Requirement already satisfied: nltk in c:\\users\\abinesh\\anaconda3\\imarticus\\envs\\chatbot_env\\lib\\site-packages (3.9.1)\n",
      "Requirement already satisfied: scikit-learn in c:\\users\\abinesh\\anaconda3\\imarticus\\envs\\chatbot_env\\lib\\site-packages (1.7.0)\n",
      "Requirement already satisfied: click in c:\\users\\abinesh\\anaconda3\\imarticus\\envs\\chatbot_env\\lib\\site-packages (from nltk) (8.2.1)\n",
      "Requirement already satisfied: joblib in c:\\users\\abinesh\\anaconda3\\imarticus\\envs\\chatbot_env\\lib\\site-packages (from nltk) (1.5.1)\n",
      "Requirement already satisfied: regex>=2021.8.3 in c:\\users\\abinesh\\anaconda3\\imarticus\\envs\\chatbot_env\\lib\\site-packages (from nltk) (2024.11.6)\n",
      "Requirement already satisfied: tqdm in c:\\users\\abinesh\\anaconda3\\imarticus\\envs\\chatbot_env\\lib\\site-packages (from nltk) (4.67.1)\n",
      "Requirement already satisfied: numpy>=1.22.0 in c:\\users\\abinesh\\anaconda3\\imarticus\\envs\\chatbot_env\\lib\\site-packages (from scikit-learn) (2.3.1)\n",
      "Requirement already satisfied: scipy>=1.8.0 in c:\\users\\abinesh\\anaconda3\\imarticus\\envs\\chatbot_env\\lib\\site-packages (from scikit-learn) (1.16.0)\n",
      "Requirement already satisfied: threadpoolctl>=3.1.0 in c:\\users\\abinesh\\anaconda3\\imarticus\\envs\\chatbot_env\\lib\\site-packages (from scikit-learn) (3.6.0)\n",
      "Requirement already satisfied: colorama in c:\\users\\abinesh\\anaconda3\\imarticus\\envs\\chatbot_env\\lib\\site-packages (from click->nltk) (0.4.6)\n",
      "Downloading pypdf2-3.0.1-py3-none-any.whl (232 kB)\n",
      "Installing collected packages: PyPDF2\n",
      "Successfully installed PyPDF2-3.0.1\n"
     ]
    }
   ],
   "source": [
    "!pip install PyPDF2 nltk scikit-learn\n"
   ]
  },
  {
   "cell_type": "code",
   "execution_count": 5,
   "id": "31e2fa9e-b95f-48aa-b8e6-0eafe6d35391",
   "metadata": {},
   "outputs": [
    {
     "name": "stdout",
     "output_type": "stream",
     "text": [
      "Requirement already satisfied: PyPDF2 in c:\\users\\abinesh\\anaconda3\\imarticus\\envs\\chatbot_env\\lib\\site-packages (3.0.1)\n"
     ]
    }
   ],
   "source": [
    "!pip install PyPDF2"
   ]
  },
  {
   "cell_type": "code",
   "execution_count": 7,
   "id": "d239853f-685a-4ab1-b575-d0a9fa7ffdb5",
   "metadata": {},
   "outputs": [
    {
     "name": "stdout",
     "output_type": "stream",
     "text": [
      "Collecting PyPDF2\n",
      "  Using cached pypdf2-3.0.1-py3-none-any.whl.metadata (6.8 kB)\n",
      "Using cached pypdf2-3.0.1-py3-none-any.whl (232 kB)\n",
      "Installing collected packages: PyPDF2\n",
      "Successfully installed PyPDF2-3.0.1\n"
     ]
    }
   ],
   "source": [
    "import sys\n",
    "!{sys.executable} -m pip install PyPDF2\n"
   ]
  },
  {
   "cell_type": "code",
   "execution_count": 8,
   "id": "2b5217dd-298e-4849-9514-82411c2f8dea",
   "metadata": {},
   "outputs": [
    {
     "name": "stderr",
     "output_type": "stream",
     "text": [
      "[nltk_data] Downloading package punkt to\n",
      "[nltk_data]     C:\\Users\\ABINESH\\AppData\\Roaming\\nltk_data...\n",
      "[nltk_data]   Package punkt is already up-to-date!\n"
     ]
    },
    {
     "data": {
      "text/plain": [
       "True"
      ]
     },
     "execution_count": 8,
     "metadata": {},
     "output_type": "execute_result"
    }
   ],
   "source": [
    "import PyPDF2\n",
    "import nltk\n",
    "nltk.download('punkt')\n"
   ]
  },
  {
   "cell_type": "code",
   "execution_count": 9,
   "id": "582b1643-9f49-4681-bea8-0e4df1b539d5",
   "metadata": {},
   "outputs": [],
   "source": [
    "\n",
    "from sklearn.feature_extraction.text import TfidfVectorizer\n",
    "from sklearn.metrics.pairwise import cosine_similarity"
   ]
  },
  {
   "cell_type": "code",
   "execution_count": 10,
   "id": "ca755850-9584-43f0-b80c-4a76345687d3",
   "metadata": {},
   "outputs": [],
   "source": [
    "def extract_text_from_pdf(pdf_path):\n",
    "    text = \"\"\n",
    "    with open(pdf_path, 'rb') as file:\n",
    "        reader = PyPDF2.PdfReader(file)\n",
    "        for page in reader.pages:\n",
    "            text += page.extract_text()\n",
    "    return text"
   ]
  },
  {
   "cell_type": "code",
   "execution_count": 14,
   "id": "afd263da-851b-4a03-a637-d0846eec4105",
   "metadata": {},
   "outputs": [
    {
     "name": "stdout",
     "output_type": "stream",
     "text": [
      "✅ PDF loaded successfully!\n"
     ]
    }
   ],
   "source": [
    "pdf_path = \"C:\\\\Users\\\\ABINESH\\\\Downloads\\\\ANUSHIYA_.K_PROJECT_final[2][1].pdf\"\n",
    "pdf_text = extract_text_from_pdf(pdf_path)\n",
    "print(\"✅ PDF loaded successfully!\")"
   ]
  },
  {
   "cell_type": "code",
   "execution_count": 16,
   "id": "bbb42711-1f57-4c35-a6f5-5a2f61e3a74a",
   "metadata": {},
   "outputs": [],
   "source": [
    "from nltk.tokenize import sent_tokenize\n"
   ]
  },
  {
   "cell_type": "code",
   "execution_count": 17,
   "id": "f2933909-1be3-4b25-b44f-ffb7d7f63537",
   "metadata": {},
   "outputs": [],
   "source": [
    "sentences = sent_tokenize(pdf_text)"
   ]
  },
  {
   "cell_type": "code",
   "execution_count": 18,
   "id": "dbdf84f5-989c-4032-ba48-b48a01c038c6",
   "metadata": {},
   "outputs": [],
   "source": [
    "vectorizer = TfidfVectorizer()\n",
    "sentence_vectors = vectorizer.fit_transform(sentences)"
   ]
  },
  {
   "cell_type": "code",
   "execution_count": 22,
   "id": "d5b58588-2c8a-4db4-b414-b96509438506",
   "metadata": {},
   "outputs": [],
   "source": [
    "def get_answer_from_pdf(user_question, top_n=3):\n",
    "    question_vec = vectorizer.transform([user_question])\n",
    "    similarity = cosine_similarity(question_vec, sentence_vectors)\n",
    "    top_indices = similarity.argsort()[0][-top_n:][::-1]\n",
    "    \n",
    "    response = \" \".join([sentences[i] for i in top_indices])\n",
    "    return response\n"
   ]
  },
  {
   "cell_type": "code",
   "execution_count": null,
   "id": "ff513fb2-52c3-4a67-b6e8-232b51e6fdc6",
   "metadata": {},
   "outputs": [
    {
     "name": "stdout",
     "output_type": "stream",
     "text": [
      "🤖 PDF Chatbot is ready! Type 'quit' to exit.\n"
     ]
    },
    {
     "name": "stdout",
     "output_type": "stream",
     "text": [
      "You:  what is the company's objective?\n"
     ]
    },
    {
     "name": "stdout",
     "output_type": "stream",
     "text": [
      "Bot: OBJECTIVES  \n",
      " \n",
      "The main objective  of the study is,  \n",
      " \n",
      "1. WHAT MOTIVATES EMPOLYEE S ? At its core,  motivatio n is what  causes  individuals  to act.\n"
     ]
    },
    {
     "name": "stdout",
     "output_type": "stream",
     "text": [
      "You:  tell me about employee motivation\n"
     ]
    },
    {
     "name": "stdout",
     "output_type": "stream",
     "text": [
      "Bot: 1.1.2 BASICS ABOUT MOTIV ATION  \n",
      " \n",
      "Motivation   is  a  foundational   concept   in  organizational   behavior   and  human   resource  \n",
      "management. Drive:  The surprisi ng truth  about  what  motivates  us. Employees who are intrinsically motivated tend to be highly engaged, as the y are  \n",
      "passionate  about  their work.\n"
     ]
    }
   ],
   "source": []
  },
  {
   "cell_type": "code",
   "execution_count": null,
   "id": "38845e25-f6da-46cf-a61e-2177b9cf57df",
   "metadata": {},
   "outputs": [],
   "source": []
  }
 ],
 "metadata": {
  "kernelspec": {
   "display_name": "Python 3 (ipykernel)",
   "language": "python",
   "name": "python3"
  },
  "language_info": {
   "codemirror_mode": {
    "name": "ipython",
    "version": 3
   },
   "file_extension": ".py",
   "mimetype": "text/x-python",
   "name": "python",
   "nbconvert_exporter": "python",
   "pygments_lexer": "ipython3",
   "version": "3.12.4"
  }
 },
 "nbformat": 4,
 "nbformat_minor": 5
}
